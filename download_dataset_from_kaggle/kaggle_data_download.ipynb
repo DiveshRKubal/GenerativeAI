{
  "nbformat": 4,
  "nbformat_minor": 0,
  "metadata": {
    "colab": {
      "provenance": []
    },
    "kernelspec": {
      "name": "python3",
      "display_name": "Python 3"
    },
    "language_info": {
      "name": "python"
    }
  },
  "cells": [
    {
      "cell_type": "code",
      "source": [
        "import os\n",
        "\n",
        "# Set your Kaggle API key and username\n",
        "os.environ['KAGGLE_USERNAME'] = 'xxx'\n",
        "os.environ['KAGGLE_KEY'] = 'xxx'"
      ],
      "metadata": {
        "id": "vjsBVRwTASpD"
      },
      "execution_count": 4,
      "outputs": []
    },
    {
      "cell_type": "code",
      "execution_count": null,
      "metadata": {
        "id": "xazpdmWE-y1D"
      },
      "outputs": [],
      "source": [
        "# Import required libraries\n",
        "import os\n",
        "from google.colab import drive\n",
        "import kaggle\n",
        "\n",
        "\n",
        "# Mount your Google Drive to access and save data\n",
        "drive.mount('/content/drive')\n",
        "\n",
        "# Set your Kaggle API credentials (replace 'your_username' and 'your_api_key' with your own)\n",
        "os.environ['KAGGLE_USERNAME'] = 'xxx'\n",
        "os.environ['KAGGLE_KEY'] = 'xxx'\n",
        "\n",
        "# Define the dataset name (e.g., 'dataset_owner/dataset_name')\n",
        "dataset_name = 'dataset_owner/dataset_name'\n",
        "#dataset_name - joosthazelzet/lego-brick-images/\n",
        "\n",
        "# Set the destination folder on your Google Drive where you want to save the dataset\n",
        "drive_path = '/content/drive/downloaded_data'\n",
        "\n",
        "# Create the destination folder if it doesn't exist\n",
        "if not os.path.exists(drive_path):\n",
        "    os.makedirs(drive_path)\n",
        "\n",
        "# Change the current working directory to the destination folder\n",
        "os.chdir(drive_path)\n",
        "\n",
        "# Use the Kaggle API to download the dataset\n",
        "kaggle.api.dataset_download_files(dataset_name, path=drive_path, unzip=True)\n",
        "\n",
        "# List the files in the destination folder\n",
        "os.listdir(drive_path)\n"
      ]
    }
  ]
}